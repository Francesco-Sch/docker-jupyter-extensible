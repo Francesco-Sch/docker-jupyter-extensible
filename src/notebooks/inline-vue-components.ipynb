{
 "cells": [
  {
   "cell_type": "markdown",
   "metadata": {},
   "source": [
    "# Render vue components inline"
   ]
  },
  {
   "cell_type": "code",
   "execution_count": 106,
   "metadata": {},
   "outputs": [],
   "source": [
    "import ipyvuetify as v\n",
    "from ipyvuetify.extra import FileInput\n",
    "import traitlets\n",
    "import ipywidgets as widgets"
   ]
  },
  {
   "cell_type": "code",
   "execution_count": 107,
   "metadata": {},
   "outputs": [],
   "source": [
    "# Declare variables\n",
    "files=[]"
   ]
  },
  {
   "cell_type": "code",
   "execution_count": 116,
   "metadata": {},
   "outputs": [],
   "source": [
    "image_upload = FileInput()\n",
    "\n",
    "submit_button = v.Btn(children=['Upload Images'])\n",
    "\n",
    "out = widgets.Output()\n",
    "\n",
    "def upload_images(widget, event, data):\n",
    "    global files\n",
    "    files = image_upload.get_files()[0]\n",
    "    data = files['file_obj'].read()\n",
    "    \n",
    "    wid_builtin = widgets.Image(value=data)\n",
    "    wid_builtin\n",
    "    \n",
    "submit_button.on_event('click', upload_images)"
   ]
  },
  {
   "cell_type": "code",
   "execution_count": 118,
   "metadata": {},
   "outputs": [
    {
     "data": {
      "application/vnd.jupyter.widget-view+json": {
       "model_id": "0c6791803b9543799678e4a29657ba74",
       "version_major": 2,
       "version_minor": 0
      },
      "text/plain": [
       "Container(children=[FileInput(events=['upload'], file_info=[{'name': 'portfolio-og-image.png', 'size': 24044, …"
      ]
     },
     "metadata": {},
     "output_type": "display_data"
    }
   ],
   "source": [
    "v.Container(children=[\n",
    "    image_upload,\n",
    "    submit_button,\n",
    "])"
   ]
  },
  {
   "cell_type": "code",
   "execution_count": 93,
   "metadata": {},
   "outputs": [],
   "source": [
    "image_gallery = v.Container(children=[\n",
    "    v.Btn(children=[\n",
    "        v.Html(\n",
    "            tag='img',\n",
    "            attributes={\n",
    "                'src': files[i]\n",
    "            },\n",
    "        )\n",
    "    ]) for i in files\n",
    "])"
   ]
  },
  {
   "cell_type": "code",
   "execution_count": null,
   "metadata": {},
   "outputs": [],
   "source": []
  }
 ],
 "metadata": {
  "kernelspec": {
   "display_name": "Python 3 (ipykernel)",
   "language": "python",
   "name": "python3"
  },
  "language_info": {
   "codemirror_mode": {
    "name": "ipython",
    "version": 3
   },
   "file_extension": ".py",
   "mimetype": "text/x-python",
   "name": "python",
   "nbconvert_exporter": "python",
   "pygments_lexer": "ipython3",
   "version": "3.9.10"
  }
 },
 "nbformat": 4,
 "nbformat_minor": 4
}
