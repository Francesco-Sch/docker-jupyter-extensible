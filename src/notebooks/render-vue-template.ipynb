{
 "cells": [
  {
   "cell_type": "markdown",
   "id": "c6de8644-defb-428b-8e71-e4cf10aa3018",
   "metadata": {
    "tags": []
   },
   "source": [
    "# Render Vue from Template"
   ]
  },
  {
   "cell_type": "code",
   "execution_count": 7,
   "id": "84594c89-9176-4b18-bc97-eb159c49ed7b",
   "metadata": {
    "tags": []
   },
   "outputs": [],
   "source": [
    "import ipyvuetify as v\n",
    "import traitlets"
   ]
  },
  {
   "cell_type": "code",
   "execution_count": 10,
   "id": "1b9b971d-9874-49e4-8e5d-18080dae521a",
   "metadata": {
    "tags": []
   },
   "outputs": [
    {
     "ename": "IndentationError",
     "evalue": "expected an indented block (977036676.py, line 8)",
     "output_type": "error",
     "traceback": [
      "\u001b[0;36m  Input \u001b[0;32mIn [10]\u001b[0;36m\u001b[0m\n\u001b[0;31m    dashboard = Dashboard()\u001b[0m\n\u001b[0m                           ^\u001b[0m\n\u001b[0;31mIndentationError\u001b[0m\u001b[0;31m:\u001b[0m expected an indented block\n"
     ]
    }
   ],
   "source": [
    "class Dashboard(v.VuetifyTemplate):\n",
    "    template_file = '../templates/renderVueTemplate.vue'\n",
    "    \n",
    "    text = traitlets.Unicode('').tag(sync=True)\n",
    "        \n",
    "dashboard = Dashboard()\n",
    "dashboard"
   ]
  }
 ],
 "metadata": {
  "kernelspec": {
   "display_name": "Python 3 (ipykernel)",
   "language": "python",
   "name": "python3"
  },
  "language_info": {
   "codemirror_mode": {
    "name": "ipython",
    "version": 3
   },
   "file_extension": ".py",
   "mimetype": "text/x-python",
   "name": "python",
   "nbconvert_exporter": "python",
   "pygments_lexer": "ipython3",
   "version": "3.9.10"
  }
 },
 "nbformat": 4,
 "nbformat_minor": 5
}
