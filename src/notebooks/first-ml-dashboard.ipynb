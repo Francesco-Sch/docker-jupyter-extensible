{
 "cells": [
  {
   "cell_type": "markdown",
   "id": "c6de8644-defb-428b-8e71-e4cf10aa3018",
   "metadata": {
    "tags": []
   },
   "source": [
    "# Render Vue"
   ]
  },
  {
   "cell_type": "code",
   "execution_count": 1,
   "id": "84594c89-9176-4b18-bc97-eb159c49ed7b",
   "metadata": {
    "tags": []
   },
   "outputs": [],
   "source": [
    "import ipyvuetify as v\n",
    "import traitlets"
   ]
  },
  {
   "cell_type": "code",
   "execution_count": 2,
   "id": "1b9b971d-9874-49e4-8e5d-18080dae521a",
   "metadata": {
    "tags": []
   },
   "outputs": [
    {
     "data": {
      "application/vnd.jupyter.widget-view+json": {
       "model_id": "8f0067ee5aa348a0a8ffcebfa30e495f",
       "version_major": 2,
       "version_minor": 0
      },
      "text/plain": [
       "Dashboard(template=Template(template='<template>\\n  <div>\\n      <section>\\n          <label>Write some text:<…"
      ]
     },
     "metadata": {},
     "output_type": "display_data"
    }
   ],
   "source": [
    "class Dashboard(v.VuetifyTemplate):\n",
    "    template_file = '../templates/firstMLDashboard.vue'\n",
    "    \n",
    "    text = traitlets.Unicode('').tag(sync=True)\n",
    "dashboard = Dashboard()\n",
    "dashboard"
   ]
  },
  {
   "cell_type": "code",
   "execution_count": null,
   "id": "e80d5640-4683-403f-80bb-028af0861f95",
   "metadata": {},
   "outputs": [],
   "source": []
  }
 ],
 "metadata": {
  "kernelspec": {
   "display_name": "Python 3 (ipykernel)",
   "language": "python",
   "name": "python3"
  },
  "language_info": {
   "codemirror_mode": {
    "name": "ipython",
    "version": 3
   },
   "file_extension": ".py",
   "mimetype": "text/x-python",
   "name": "python",
   "nbconvert_exporter": "python",
   "pygments_lexer": "ipython3",
   "version": "3.9.10"
  }
 },
 "nbformat": 4,
 "nbformat_minor": 5
}
