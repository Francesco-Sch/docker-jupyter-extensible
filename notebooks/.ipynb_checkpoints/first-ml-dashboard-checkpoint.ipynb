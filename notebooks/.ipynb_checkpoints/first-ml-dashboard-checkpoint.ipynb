{
 "cells": [
  {
   "cell_type": "code",
   "execution_count": 1,
   "id": "1dc739e0-6a71-41a0-95ce-fc67906cd7e5",
   "metadata": {},
   "outputs": [],
   "source": [
    "# Sort data"
   ]
  },
  {
   "cell_type": "code",
   "execution_count": 2,
   "id": "ccae169a-9a0b-48b1-ae7f-133b8ec3793e",
   "metadata": {},
   "outputs": [],
   "source": [
    "import ipyvue as vue\n",
    "import traitlets"
   ]
  },
  {
   "cell_type": "code",
   "execution_count": 3,
   "id": "191a4918-f88c-42d1-be9d-8f1c5eeecd9c",
   "metadata": {},
   "outputs": [
    {
     "data": {
      "application/vnd.jupyter.widget-view+json": {
       "model_id": "1e06b662eec34f7bbe2ed20683f10995",
       "version_major": 2,
       "version_minor": 0
      },
      "text/plain": [
       "Parent(components={'full-vue': \"\\n        <template>\\n            <div>\\n                Prop from parent: \\n …"
      ]
     },
     "metadata": {},
     "output_type": "display_data"
    }
   ],
   "source": [
    "class Parent(vue.VueTemplate):\n",
    "    template = traitlets.Unicode('''\n",
    "        <template>\n",
    "            <div>\n",
    "                <div>parent</div>\n",
    "                <full-vue :some-prop=\"myprop\" />\n",
    "            </div>\n",
    "        </template>\n",
    "    ''').tag(sync=True)\n",
    "    \n",
    "    myprop = traitlets.Unicode('hello').tag(sync=True)\n",
    "    \n",
    "    components = traitlets.Dict({'full-vue': '''\n",
    "        <template>\n",
    "            <div>\n",
    "                Prop from parent: \n",
    "                <h3> {{ someProp}} </h3>\n",
    "            </div>\n",
    "        </template>\n",
    "        <script>\n",
    "            module.exports = {\n",
    "                props: ['someProp']\n",
    "            }\n",
    "        </script>\n",
    "    '''}).tag(sync=True)\n",
    "\n",
    "parent = Parent()\n",
    "parent"
   ]
  }
 ],
 "metadata": {
  "kernelspec": {
   "display_name": "Python 3 (ipykernel)",
   "language": "python",
   "name": "python3"
  },
  "language_info": {
   "codemirror_mode": {
    "name": "ipython",
    "version": 3
   },
   "file_extension": ".py",
   "mimetype": "text/x-python",
   "name": "python",
   "nbconvert_exporter": "python",
   "pygments_lexer": "ipython3",
   "version": "3.9.10"
  }
 },
 "nbformat": 4,
 "nbformat_minor": 5
}
