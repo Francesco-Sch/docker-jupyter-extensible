{
 "cells": [
  {
   "cell_type": "code",
   "execution_count": 1,
   "id": "1dc739e0-6a71-41a0-95ce-fc67906cd7e5",
   "metadata": {},
   "outputs": [],
   "source": [
    "# Hello World"
   ]
  },
  {
   "cell_type": "code",
   "execution_count": 2,
   "id": "ccae169a-9a0b-48b1-ae7f-133b8ec3793e",
   "metadata": {},
   "outputs": [],
   "source": [
    "import ipyvue as vue\n",
    "import traitlets"
   ]
  },
  {
   "cell_type": "code",
   "execution_count": 5,
   "id": "191a4918-f88c-42d1-be9d-8f1c5eeecd9c",
   "metadata": {},
   "outputs": [
    {
     "data": {
      "application/vnd.jupyter.widget-view+json": {
       "model_id": "3699b6059b2e482197c7b0a32d9f6ac0",
       "version_major": 2,
       "version_minor": 0
      },
      "text/plain": [
       "Parent(components={'full-vue': \"\\n        <template>\\n            <div>\\n                Prop from parent: \\n …"
      ]
     },
     "metadata": {},
     "output_type": "display_data"
    }
   ],
   "source": [
    "class Parent(vue.VueTemplate):\n",
    "    template = traitlets.Unicode('''\n",
    "        <template>\n",
    "            <div>\n",
    "                <div>parent</div>\n",
    "                <full-vue :some-prop=\"myprop\" />\n",
    "            </div>\n",
    "        </template>\n",
    "    ''').tag(sync=True)\n",
    "    \n",
    "    myprop = traitlets.Unicode('hello').tag(sync=True)\n",
    "    \n",
    "    components = traitlets.Dict({'full-vue': '''\n",
    "        <template>\n",
    "            <div>\n",
    "                Prop from parent: \n",
    "                <h3> {{ someProp}} </h3>\n",
    "            </div>\n",
    "        </template>\n",
    "        <script>\n",
    "            module.exports = {\n",
    "                props: ['someProp']\n",
    "            }\n",
    "        </script>\n",
    "    '''}).tag(sync=True)\n",
    "\n",
    "parent = Parent()\n",
    "parent"
   ]
  },
  {
   "cell_type": "code",
   "execution_count": 6,
   "id": "1e30a95a-7cfb-4ea2-b290-e686da74a8a5",
   "metadata": {},
   "outputs": [],
   "source": [
    "parent.myprop = 'hi'"
   ]
  },
  {
   "cell_type": "code",
   "execution_count": 7,
   "id": "274fa03c-c534-40d2-942d-0c9d87433892",
   "metadata": {},
   "outputs": [],
   "source": [
    "vue.register_component_from_string(\n",
    "    'g-sub',\n",
    "    '''\n",
    "        <template>\n",
    "            <span>sub-component</span>\n",
    "        </template\n",
    "''')"
   ]
  },
  {
   "cell_type": "code",
   "execution_count": 8,
   "id": "9ce86c8c-09bb-41dd-b876-f9f2727fe43d",
   "metadata": {},
   "outputs": [],
   "source": [
    "vue.register_component_from_string(\n",
    "    'g-full-vue',\n",
    "    '''\n",
    "        <template>\n",
    "            <div>\n",
    "                Prop from parent (g): \n",
    "                <h3> {{ someProp}} </h3>\n",
    "                <button @click=\"changeProp()\">change</button>\n",
    "                <div>\n",
    "                    sub: <g-sub></g-sub>\n",
    "                </div>\n",
    "            </div>\n",
    "        </template>\n",
    "        <script>\n",
    "            module.exports = {\n",
    "                props: ['someProp'],\n",
    "                methods: {\n",
    "                    changeProp() {\n",
    "                        this.$emit('update:someProp', 'new value')\n",
    "                    }\n",
    "                }\n",
    "            }\n",
    "        </script>\n",
    "        <style scoped>\n",
    "            h3 {\n",
    "                color: blue\n",
    "            }\n",
    "        </style>\n",
    "''')"
   ]
  },
  {
   "cell_type": "code",
   "execution_count": 10,
   "id": "ad8c4c86-bb2e-44f4-8773-c39bc432dc83",
   "metadata": {},
   "outputs": [
    {
     "data": {
      "application/vnd.jupyter.widget-view+json": {
       "model_id": "d13ab3c81eb2478fa109801d0e7797ff",
       "version_major": 2,
       "version_minor": 0
      },
      "text/plain": [
       "GlobalExample()"
      ]
     },
     "metadata": {},
     "output_type": "display_data"
    }
   ],
   "source": [
    "class GlobalExample(vue.VueTemplate):\n",
    "    template = traitlets.Unicode('''\n",
    "        <template>\n",
    "            <div>\n",
    "                <div>parent</div>\n",
    "                <g-full-vue :some-prop.sync=\"myprop\"></g-full-vue>\n",
    "            </div>\n",
    "        </template>\n",
    "    ''').tag(sync=True)\n",
    "    \n",
    "    myprop = traitlets.Unicode('hello').tag(sync=True)\n",
    "    \n",
    "globalExample = GlobalExample()\n",
    "globalExample"
   ]
  },
  {
   "cell_type": "code",
   "execution_count": 11,
   "id": "0f274531-bd3a-4e9c-9fc3-ddea0339bb32",
   "metadata": {},
   "outputs": [
    {
     "data": {
      "application/vnd.jupyter.widget-view+json": {
       "model_id": "f2abd1df4e5249f09aa2792c48f6c490",
       "version_major": 2,
       "version_minor": 0
      },
      "text/plain": [
       "Html(children=['test scoped'], tag='h3')"
      ]
     },
     "metadata": {},
     "output_type": "display_data"
    }
   ],
   "source": [
    "vue.Html(tag='h3', children=['test scoped'])"
   ]
  },
  {
   "cell_type": "code",
   "execution_count": 12,
   "id": "ab02ae31-6c5c-4292-a3eb-9c2da8e9d7cd",
   "metadata": {},
   "outputs": [
    {
     "data": {
      "text/plain": [
       "'hello'"
      ]
     },
     "execution_count": 12,
     "metadata": {},
     "output_type": "execute_result"
    }
   ],
   "source": [
    "globalExample.myprop"
   ]
  },
  {
   "cell_type": "code",
   "execution_count": 13,
   "id": "366c6527-929f-448b-8632-b191a43d0fee",
   "metadata": {},
   "outputs": [],
   "source": [
    "globalExample.myprop = 'hi'"
   ]
  },
  {
   "cell_type": "code",
   "execution_count": 14,
   "id": "08f59659-2ac0-4ee4-9326-fcfd5092e2c9",
   "metadata": {},
   "outputs": [
    {
     "ename": "ModuleNotFoundError",
     "evalue": "No module named 'ipyvuetify'",
     "output_type": "error",
     "traceback": [
      "\u001b[0;31m---------------------------------------------------------------------------\u001b[0m",
      "\u001b[0;31mModuleNotFoundError\u001b[0m                       Traceback (most recent call last)",
      "Input \u001b[0;32mIn [14]\u001b[0m, in \u001b[0;36m<cell line: 1>\u001b[0;34m()\u001b[0m\n\u001b[0;32m----> 1\u001b[0m \u001b[38;5;28;01mimport\u001b[39;00m \u001b[38;5;21;01mipyvuetify\u001b[39;00m \u001b[38;5;28;01mas\u001b[39;00m \u001b[38;5;21;01mv\u001b[39;00m\n\u001b[1;32m      2\u001b[0m \u001b[38;5;28;01mfrom\u001b[39;00m \u001b[38;5;21;01mtraitlets\u001b[39;00m \u001b[38;5;28;01mimport\u001b[39;00m Unicode, Dict, List\n\u001b[1;32m      3\u001b[0m \u001b[38;5;28;01mimport\u001b[39;00m \u001b[38;5;21;01mipywidgets\u001b[39;00m \u001b[38;5;28;01mas\u001b[39;00m \u001b[38;5;21;01mw\u001b[39;00m\n",
      "\u001b[0;31mModuleNotFoundError\u001b[0m: No module named 'ipyvuetify'"
     ]
    }
   ],
   "source": [
    "import ipyvuetify as v\n",
    "from traitlets import Unicode, Dict, List\n",
    "import ipywidgets as w\n",
    "\n",
    "class Testing(v.VuetifyTemplate):\n",
    "    template = Unicode(\"\"\"\n",
    "    <template>\n",
    "        <test-comp :viewer=\"some_widget\"></test_comp>\n",
    "    </template>\n",
    "    \"\"\").tag(sync=True)\n",
    "    \n",
    "    components = Dict({\n",
    "        'test-comp': \"\"\"\n",
    "            <template>\n",
    "              <v-card>\n",
    "                <v-btn>Test</v-btn>\n",
    "                <span>HERE</span>\n",
    "                {{ viewer }}\n",
    "                <jupyter-widget :widget=\"viewer[0]\"></jupyter-widget>\n",
    "              </v-card>\n",
    "            </template>\n",
    "            <script>\n",
    "            module.exports = {\n",
    "              props: [\"viewer\"]\n",
    "            };\n",
    "            </script>\n",
    "        \"\"\"\n",
    "    }).tag(sync=True)\n",
    "    \n",
    "    some_widget = List([\n",
    "        v.Btn(children=['Test'])\n",
    "    ]).tag(sync=True, **w.widget_serialization)\n",
    "    \n",
    "Testing()"
   ]
  },
  {
   "cell_type": "code",
   "execution_count": null,
   "id": "6f31e0f3-2a03-4bb6-9fa1-8c87bf8691e1",
   "metadata": {},
   "outputs": [],
   "source": []
  }
 ],
 "metadata": {
  "kernelspec": {
   "display_name": "Python 3 (ipykernel)",
   "language": "python",
   "name": "python3"
  },
  "language_info": {
   "codemirror_mode": {
    "name": "ipython",
    "version": 3
   },
   "file_extension": ".py",
   "mimetype": "text/x-python",
   "name": "python",
   "nbconvert_exporter": "python",
   "pygments_lexer": "ipython3",
   "version": "3.9.10"
  }
 },
 "nbformat": 4,
 "nbformat_minor": 5
}
